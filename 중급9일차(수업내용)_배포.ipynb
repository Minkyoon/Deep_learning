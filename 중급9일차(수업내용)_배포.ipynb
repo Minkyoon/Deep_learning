{
  "nbformat": 4,
  "nbformat_minor": 0,
  "metadata": {
    "colab": {
      "provenance": [],
      "toc_visible": true,
      "include_colab_link": true
    },
    "kernelspec": {
      "name": "python3",
      "display_name": "Python 3"
    },
    "language_info": {
      "name": "python"
    }
  },
  "cells": [
    {
      "cell_type": "markdown",
      "metadata": {
        "id": "view-in-github",
        "colab_type": "text"
      },
      "source": [
        "<a href=\"https://colab.research.google.com/github/min-program/Deep_learning/blob/main/%EC%A4%91%EA%B8%899%EC%9D%BC%EC%B0%A8(%EC%88%98%EC%97%85%EB%82%B4%EC%9A%A9)_%EB%B0%B0%ED%8F%AC.ipynb\" target=\"_parent\"><img src=\"https://colab.research.google.com/assets/colab-badge.svg\" alt=\"Open In Colab\"/></a>"
      ]
    },
    {
      "cell_type": "markdown",
      "source": [
        "# 파일 입출력 처리"
      ],
      "metadata": {
        "id": "FpHVvXgJtLLv"
      }
    },
    {
      "cell_type": "markdown",
      "source": [
        "## 파일읽기"
      ],
      "metadata": {
        "id": "ok9adr-xvfbp"
      }
    },
    {
      "cell_type": "code",
      "source": [],
      "metadata": {
        "id": "X1s5FXLhunQY"
      },
      "execution_count": null,
      "outputs": []
    },
    {
      "cell_type": "code",
      "source": [
        "# read()함수\n"
      ],
      "metadata": {
        "colab": {
          "base_uri": "https://localhost:8080/"
        },
        "id": "NQoXPnxrtN3i",
        "outputId": "dd95bfa5-a2f8-43de-90ba-ece7fcac982f"
      },
      "execution_count": null,
      "outputs": [
        {
          "output_type": "stream",
          "name": "stdout",
          "text": [
            "홍길동\n",
            "홍이동\n",
            "홍삼동\n"
          ]
        }
      ]
    },
    {
      "cell_type": "code",
      "source": [],
      "metadata": {
        "colab": {
          "base_uri": "https://localhost:8080/"
        },
        "id": "aQyiYsPZt-rr",
        "outputId": "179b1abe-74f9-4b59-d7b6-90e5274616df"
      },
      "execution_count": null,
      "outputs": [
        {
          "output_type": "stream",
          "name": "stdout",
          "text": [
            "홍길동\n",
            "홍이동\n",
            "홍삼동\n"
          ]
        }
      ]
    },
    {
      "cell_type": "code",
      "source": [
        "# readline()함수\n"
      ],
      "metadata": {
        "id": "jvc5ZI93ukDm"
      },
      "execution_count": null,
      "outputs": []
    },
    {
      "cell_type": "code",
      "source": [],
      "metadata": {
        "colab": {
          "base_uri": "https://localhost:8080/"
        },
        "id": "qRmqutuJvMDg",
        "outputId": "04093303-5020-426c-b0d3-2c82f47c7501"
      },
      "execution_count": null,
      "outputs": [
        {
          "output_type": "stream",
          "name": "stdout",
          "text": [
            "홍길동\n",
            "홍이동\n",
            "홍삼동"
          ]
        }
      ]
    },
    {
      "cell_type": "code",
      "source": [
        "# readlines()함수\n"
      ],
      "metadata": {
        "colab": {
          "base_uri": "https://localhost:8080/"
        },
        "id": "kpsRgqgbvi6h",
        "outputId": "6f5718a3-ad69-4b4c-a4ae-57b3c3e0e93c"
      },
      "execution_count": null,
      "outputs": [
        {
          "output_type": "stream",
          "name": "stdout",
          "text": [
            "['홍길동\\n', '홍이동\\n', '홍삼동']"
          ]
        }
      ]
    },
    {
      "cell_type": "code",
      "source": [],
      "metadata": {
        "colab": {
          "base_uri": "https://localhost:8080/"
        },
        "id": "7SrvEOmivzFo",
        "outputId": "8ba577fd-be23-4573-dcd7-516e47746738"
      },
      "execution_count": null,
      "outputs": [
        {
          "output_type": "stream",
          "name": "stdout",
          "text": [
            "홍길동\n",
            "홍이동\n",
            "홍삼동\n"
          ]
        }
      ]
    },
    {
      "cell_type": "markdown",
      "source": [
        "## 파일 쓰기"
      ],
      "metadata": {
        "id": "5qWrJcrmwL0v"
      }
    },
    {
      "cell_type": "code",
      "source": [],
      "metadata": {
        "colab": {
          "base_uri": "https://localhost:8080/"
        },
        "id": "LmBSi65swNJ9",
        "outputId": "4a1da748-6900-48a6-ae9e-a3609b923835"
      },
      "execution_count": null,
      "outputs": [
        {
          "name": "stdout",
          "output_type": "stream",
          "text": [
            "name:aa\n",
            "name:bb\n",
            "name:cc\n",
            "name:\n"
          ]
        }
      ]
    },
    {
      "cell_type": "markdown",
      "source": [
        "## 도전문제1"
      ],
      "metadata": {
        "id": "_4tywAEByCxS"
      }
    },
    {
      "cell_type": "code",
      "source": [],
      "metadata": {
        "colab": {
          "base_uri": "https://localhost:8080/"
        },
        "id": "n6r0ZumpyFMX",
        "outputId": "f1ccf8a8-9df1-4e58-8385-d38dcbdf8331"
      },
      "execution_count": null,
      "outputs": [
        {
          "output_type": "stream",
          "name": "stdout",
          "text": [
            "name : 정명식\n",
            "정명식 welecome!!\n",
            "name : 최봉수\n",
            "최봉수 welecome!!\n",
            "name : 김진영\n",
            "김진영 welecome!!\n",
            "name : 김진호\n",
            "김진호 welecome!!\n",
            "name : \n",
            "total count : 4\n"
          ]
        }
      ]
    },
    {
      "cell_type": "markdown",
      "source": [
        "## 도전문제2"
      ],
      "metadata": {
        "id": "mLJcgHdOzjRx"
      }
    },
    {
      "cell_type": "code",
      "source": [],
      "metadata": {
        "colab": {
          "base_uri": "https://localhost:8080/"
        },
        "id": "au2IRwJWzlZ5",
        "outputId": "dc3a7911-168c-4f22-f4e8-bd8d93665d0c"
      },
      "execution_count": null,
      "outputs": [
        {
          "output_type": "stream",
          "name": "stdout",
          "text": [
            "이름\t합계\t평균\n",
            "김가현\t180\t 90.0\n",
            "김혜현\t180\t 90.0\n",
            "최재원\t180\t 90.0\n",
            "최지윤\t175\t 87.5\n",
            "김연수\t190\t 95.0\n",
            "김연우\t200\t100.0\n"
          ]
        }
      ]
    },
    {
      "cell_type": "markdown",
      "source": [
        "# 실습문제"
      ],
      "metadata": {
        "id": "fv4-3y4KNUuL"
      }
    },
    {
      "cell_type": "markdown",
      "source": [
        "## 파일 불러온 후 확인하기"
      ],
      "metadata": {
        "id": "HHNFhC_TNW-x"
      }
    },
    {
      "cell_type": "code",
      "source": [],
      "metadata": {
        "id": "cFFG3fnQNwfU"
      },
      "execution_count": null,
      "outputs": []
    },
    {
      "cell_type": "markdown",
      "source": [
        "## 특정 등장인물의 대사만 모으기\n",
        "- Monica 대사만 모아서 출력하기"
      ],
      "metadata": {
        "id": "MoTgIF9mNaln"
      }
    },
    {
      "cell_type": "code",
      "execution_count": null,
      "metadata": {
        "id": "f8VCHp9mNPLt"
      },
      "outputs": [],
      "source": []
    },
    {
      "cell_type": "markdown",
      "source": [
        "## 등장인물 리스트 만들기\n",
        "- 등장인물 이름을 모두 모아 출력하기\n",
        "- 이름 규칙 : 대문자시작+소문자반복+콜론(:)"
      ],
      "metadata": {
        "id": "rFxnvzaUYXgw"
      }
    },
    {
      "cell_type": "code",
      "source": [],
      "metadata": {
        "id": "TdEQrW9UYrDT"
      },
      "execution_count": null,
      "outputs": []
    },
    {
      "cell_type": "code",
      "source": [
        "# set() 중복된 원소 지우기\n"
      ],
      "metadata": {
        "id": "mjHwIDIoY8A9"
      },
      "execution_count": null,
      "outputs": []
    },
    {
      "cell_type": "code",
      "source": [
        "# 콜론(:)삭제하기\n"
      ],
      "metadata": {
        "colab": {
          "base_uri": "https://localhost:8080/"
        },
        "id": "Vj0n_d0pXh3A",
        "outputId": "fb72df57-deb9-4b93-9714-a291af685285"
      },
      "execution_count": null,
      "outputs": [
        {
          "output_type": "execute_result",
          "data": {
            "text/plain": [
              "['Scene',\n",
              " 'Frannie',\n",
              " 'Paul',\n",
              " 'Monica',\n",
              " 'Phoebe',\n",
              " 'Ross',\n",
              " 'Rachel',\n",
              " 'Chandler',\n",
              " 'Waitress',\n",
              " 'Joey',\n",
              " 'Customer',\n",
              " 'Note',\n",
              " 'All']"
            ]
          },
          "metadata": {},
          "execution_count": 7
        }
      ]
    },
    {
      "cell_type": "markdown",
      "source": [
        "## 지문만 출력하기\n",
        "- 지문 예 : (The Pilot-The Uncut Version)\n",
        "- 지문 예 : (They all stare, bemused.)"
      ],
      "metadata": {
        "id": "uMDS0MarZ-bZ"
      }
    },
    {
      "cell_type": "markdown",
      "source": [
        "# 새 섹션"
      ],
      "metadata": {
        "id": "jSK7pnjH1jIn"
      }
    },
    {
      "cell_type": "code",
      "source": [],
      "metadata": {
        "colab": {
          "base_uri": "https://localhost:8080/",
          "height": 105
        },
        "id": "kZdnUGiBZuBT",
        "outputId": "3c9aaa92-903b-4c9a-9dd5-6e29ef88bd0f"
      },
      "execution_count": null,
      "outputs": [
        {
          "output_type": "execute_result",
          "data": {
            "text/plain": [
              "'The One Where Monica Gets a New Roommate (The Pilot-The Uncut Version)\\nWritten by: Marta Kauffman & David Crane\\nTranscribed by: guineapig\\nAdditional transcribing by: Eric Aasen\\n(Note: The previously unseen parts of this episode are shown in blue text.)\\n\\n[Scene: Central Perk, Chandler, Joey, Phoebe, and Monica are there.]\\n\\nMonica: There\\'s nothing to tell! He\\'s just some guy I work with!\\n\\nJoey: C\\'mon, you\\'re going out with the guy! There\\'s gotta be something wrong with him!\\n\\nChandler: All right Joey, be nice.  So does he have a hump? A hump and a hairpiece?\\n\\nPhoebe: Wait, does he eat chalk?\\n\\n(They all stare, bemused.)\\n\\nPhoebe: Just, \\'cause, I don\\'t want her to go through what I went through with Carl- oh!\\n\\nMonica: Okay, everybody relax. This is not even a date. It\\'s just two people going out to dinner and- not having sex.\\n\\nChandler: Sounds like a date to me.\\n\\n[Time Lapse]\\n\\nChandler: Alright, so I\\'m back in high school, I\\'m standing in the middle of the cafeteria, and I realize I am totally naked.\\n\\nAll: Oh, yeah. Had that dream.\\n\\nChandler: Then I look down, and I realize there\\'s a phone... there.\\n\\nJoey: Instead of...?\\n\\nChandler: That\\'s right.\\n\\nJoey: Never had that dream.\\n\\nPhoebe: No.\\n\\nChandler: All of a sudden, the phone starts to ring. Now I don\\'t know what to do, everybody starts looking at me.\\n\\nMonica: And they weren\\'t looking at you before?!\\n\\nChandler: Finally, I figure I\\'d better answer it, and it turns out it\\'s my mother, which is very-very weird, because- she never calls me!\\n\\n[Time Lapse, Ross has entered.]\\n\\nRoss: (mortified) Hi.\\n\\nJoey: This guy says hello, I wanna kill myself.\\n\\nMonica: Are you okay, sweetie?\\n\\nRoss: I just feel like someone reached down my throat, grabbed my small intestine, pulled it out of my mouth and tied it around my neck...\\n\\nChandler: Cookie?\\n\\nMonica: (explaining to the others) Carol moved her stuff out today.\\n\\nJoey: Ohh.\\n\\nMonica: (to Ross) Let me get you some coffee.\\n\\nRoss: Thanks.\\n\\nPhoebe: Ooh! Oh! (She starts to pluck at the air just in front of Ross.)\\n\\nRoss: No, no don\\'t! Stop cleansing my aura! No, just leave my aura alone, okay?\\n\\nPhoebe: Fine!  Be murky!\\n\\nRoss: I\\'ll be fine, alright? Really, everyone. I hope she\\'ll be very happy.\\n\\nMonica: No you don\\'t.\\n\\nRoss: No I don\\'t, to hell with her, she left me!\\n\\nJoey: And you never knew she was a lesbian...\\n\\nRoss: No!! Okay?! Why does everyone keep fixating on that? She didn\\'t know, how should I know?\\n\\nChandler: Sometimes I wish I was a lesbian... (They all stare at him.) Did I say that out loud?\\n\\nRoss: I told mom and dad last night, they seemed to take it pretty well.\\n\\nMonica: Oh really, so that hysterical phone call I got from a woman at sobbing 3:00 A.M., \"I\\'ll never have grandchildren, I\\'ll never have grandchildren.\" was what?  A wrong number?\\n\\nRoss: Sorry.\\n\\nJoey: Alright Ross, look. You\\'re feeling a lot of pain right now. You\\'re angry. You\\'re hurting. Can I tell you what the answer is?\\n\\n(Ross gestures his consent.)\\n\\nJoey: Strip joint! C\\'mon, you\\'re single! Have some hormones!\\n\\nRoss: I don\\'t want to be single, okay? I just... I just- I just wanna be married again!\\n\\n(Rachel enters in a wet wedding dress and starts to search the room.)\\n\\nChandler: And I just want a million dollars! (He extends his hand hopefully.)\\n\\nMonica: Rachel?!\\n\\nRachel: Oh God Monica hi! Thank God! I just went to your building and you weren\\'t there and then this guy with a big hammer said you might be here and you are, you are!\\n\\nWaitress: Can I get you some coffee?\\n\\nMonica: (pointing at Rachel) De-caff. (to All) Okay, everybody, this is Rachel, another Lincoln High survivor. (to Rachel) This is everybody, this is Chandler, and Phoebe, and Joey, and- you remember my brother Ross?\\n\\nRachel: Hi, sure!\\n\\nRoss: Hi.\\n\\n(They go to hug but Ross\\'s umbrella opens.  He sits back down defeated again.  A moment of silence follows as Rachel sits and the others expect her to explain.)\\n\\nMonica: So you wanna tell us now, or are we waiting for four wet bridesmaids?\\n\\nRachel: Oh God... well, it started about a half hour before the wedding. I was in the room where we were keeping all the presents, and I was looking at this gravy boat. This really gorgeous Lamauge gravy boat. When all of a sudden- (to the waitress that brought her coffee)Sweet \\'n\\' Lo?- I realized that I was more turned on by this gravy boat than by Barry! And then I got really freaked out, and that\\'s when it hit me: how much Barry looks like Mr. Potato Head. Y\\'know, I mean, I always knew looked familiar, but... Anyway, I just had to get out of there, and I started wondering \\'Why am I doing this, and who am I doing this for?\\'. (to Monica) So anyway I just didn\\'t know where to go, and I know that you and I have kinda drifted apart, but you\\'re the only person I knew who lived here in the city.\\n\\nMonica: Who wasn\\'t invited to the wedding.\\n\\nRachel: Ooh, I was kinda hoping that wouldn\\'t be an issue... [Scene: Monica\\'s Apartment, everyone is there and watching a Spanish Soap on TV and are trying to figure out what is going on.]\\n\\nMonica: Now I\\'m guessing that he bought her the big pipe organ, and she\\'s really not happy about it.\\n\\nChandler: (imitating the characters) Tuna or egg salad?  Decide!\\n\\nRoss: (in a deep voice) I\\'ll have whatever Christine is having.\\n\\nRachel: (on phone) Daddy, I just... I can\\'t marry him! I\\'m sorry. I just don\\'t love him. Well, it matters to me!\\n\\n(The scene on TV has changed to show two women, one is holding her hair.)\\n\\nPhoebe:  If I let go of my hair, my head will fall off.\\n\\nChandler: (re TV) Ooh, she should not be wearing those pants.\\n\\nJoey: I say push her down the stairs.\\n\\nPhoebe, Ross, Chandler, and Joey:  Push her down the stairs! Push her down the stairs! Push her down the stairs!\\n\\n(She is pushed down the stairs and everyone cheers.)\\n\\nRachel: C\\'mon Daddy, listen to me! It\\'s like, it\\'s like, all of my life, everyone has always told me, \\'You\\'re a shoe! You\\'re a shoe, you\\'re a shoe, you\\'re a shoe!\\'. And today I just stopped and I said, \\'What if I don\\'t wanna be a shoe? What if I wanna be a- a purse, y\\'know? Or a- or a hat! No, I\\'m not saying I want you to buy me a hat, I\\'m saying I am a ha- It\\'s a metaphor, Daddy!\\n\\nRoss: You can see where he\\'d have trouble.\\n\\nRachel: Look Daddy, it\\'s my life. Well maybe I\\'ll just stay here with Monica.\\n\\nMonica: Well, I guess we\\'ve established who\\'s staying here with Monica...\\n\\nRachel: Well, maybe that\\'s my decision. Well, maybe I don\\'t need your money. Wait!! Wait, I said maybe!!\\n\\n[Time Lapse, Rachel is breating into a paper bag.]\\n\\nMonica: Just breathe, breathe.. that\\'s it. Just try to think of nice calm things...\\n\\nPhoebe: (sings) Raindrops on roses and rabbits and kittens, (Rachel and Monica turn to look at her.) bluebells and sleighbells and- something with mittens... La la la la...something and noodles with string.  These are a few...\\n\\nRachel: I\\'m all better now.\\n\\nPhoebe: (grins and walks to the kitchen and says to Chandler and Joey.) I helped!\\n\\nMonica: Okay, look, this is probably for the best, y\\'know? Independence. Taking control of your life.  The whole, \\'hat\\' thing.\\n\\nJoey: (comforting her) And hey, you need anything, you can always come to Joey. Me and Chandler live across the hall. And he\\'s away a lot.\\n\\nMonica: Joey, stop hitting on her! It\\'s her wedding day!\\n\\nJoey: What, like there\\'s a rule or something?\\n\\n(The door buzzer sounds and Chandler gets it.)\\n\\nChandler: Please don\\'t do that again, it\\'s a horrible sound.\\n\\nPaul: (over the intercom) It\\'s, uh, it\\'s Paul.\\n\\nMonica: Oh God, is it 6:30?  Buzz him in!\\n\\nJoey: Who\\'s Paul?\\n\\nRoss: Paul the Wine Guy, Paul?\\n\\nMonica: Maybe. Joey: Wait. Your \\'not a real date\\' tonight is with Paul the Wine Guy?\\n\\nRoss: He finally asked you out?\\n\\nMonica: Yes!\\n\\nChandler: Ooh, this is a Dear Diary moment.\\n\\nMonica: Rach, wait, I can cancel...\\n\\nRachel: Please, no, go, that\\'d be fine!\\n\\nMonica: (to Ross) Are, are you okay? I mean, do you want me to stay?\\n\\nRoss: (choked voice) That\\'d be good...\\n\\nMonica: (horrified) Really?\\n\\nRoss: (normal voice) No, go on! It\\'s Paul the Wine Guy!\\n\\nPhoebe: What does that mean?   Does he sell it, drink it, or just complain a lot? (Chandler doesn\\'t know.)\\n\\n(There\\'s a knock on the door and it\\'s Paul.)\\n\\nMonica: Hi, come in! Paul, this is.. (They are all lined up next to the door.)... everybody, everybody, this is Paul.\\n\\nAll: Hey! Paul! Hi! The Wine Guy! Hey!\\n\\nChandler: I\\'m sorry, I didn\\'t catch your name. Paul, was it?\\n\\nMonica: Okay, umm-umm, I\\'ll just--I\\'ll be right back, I just gotta go ah, go ah...\\n\\nRoss: A wandering?\\n\\nMonica: Change!  Okay, sit down. (Shows Paul in) Two seconds.\\n\\nPhoebe: Ooh, I just pulled out four eyelashes. That can\\'t be good.\\n\\n(Monica goes to change.)\\n\\nJoey:  Hey, Paul!\\n\\nPaul: Yeah?\\n\\nJoey: Here\\'s a little tip, she really likes it when you rub her neck in the same spot over and over and over again until it starts to get a little red.\\n\\nMonica: (yelling from the bedroom) Shut up, Joey!\\n\\nRoss: So Rachel, what\\'re you, uh... what\\'re you up to tonight?\\n\\nRachel: Well, I was kinda supposed to be headed for Aruba on my honeymoon, so nothing!\\n\\nRoss: Right, you\\'re not even getting your honeymoon, God.. No, no, although, Aruba, this time of year... talk about your- (thinks) -big lizards... Anyway, if you don\\'t feel like being alone tonight, Joey and Chandler are coming over to help me put together my new furniture.\\n\\nChandler: (deadpan) Yes, and we\\'re very excited about it.\\n\\nRachel: Well actually thanks, but I think I\\'m just gonna hang out here tonight.  It\\'s been kinda a long day.\\n\\nRoss: Okay, sure.\\n\\nJoey: Hey Pheebs, you wanna help?\\n\\nPhoebe: Oh, I wish I could, but I don\\'t want to.\\n\\nCommercial Break\\n\\n[Scene: The Subway, Phoebe is singing for change.]\\n\\nPhoebe: (singing) Love is sweet as summer showers, love is a wondrous work of art, but your love oh your love, your love...is like a giant pigeon...crapping on my heart.  La-la-la-la-la- (some guy gives her some change and to that guy) Thank you. (sings) La-la-la-la...ohhh!\\n\\n[Scene: Ross\\'s Apartment, the guys are there assembling furniture.]\\n\\nRoss: (squatting and reading the instructions) I\\'m supposed to attach a brackety thing to the side things, using a bunch of these little worm guys. I have no brackety thing, I see no whim guys whatsoever and- I cannot feel my legs.\\n\\n(Joey and Chandler are finishing assembling the bookcase.)\\n\\nJoey: I\\'m thinking we\\'ve got a bookcase here.\\n\\nChandler: It\\'s a beautiful thing.\\n\\nJoey: (picking up a leftover part) What\\'s this?\\n\\nChandler: I would have to say that is an \\'L\\'-shaped bracket.\\n\\nJoey: Which goes where?\\n\\nChandler: I have no idea.\\n\\n(Joey checks that Ross is not looking and dumps it in a plant.)\\n\\nJoey: Done with the bookcase!\\n\\nChandler: All finished!\\n\\nRoss: (clutching a beer can and sniffing) This was Carol\\'s favorite beer. She always drank it out of the can, I should have known.\\n\\nJoey: Hey-hey-hey-hey, if you\\'re gonna start with that stuff we\\'re outta here.\\n\\nChandler: Yes, please don\\'t spoil all this fun.\\n\\nJoey: Ross, let me ask you a question. She got the furniture, the stereo, the good TV- what did you get?\\n\\nRoss: You guys.\\n\\nChandler: Oh, God.\\n\\nJoey: You got screwed.\\n\\nChandler: Oh my God!\\n\\n[Scene: A Restaurant, Monica and Paul are eating.]\\n\\nMonica: Oh my God!\\n\\nPaul: I know, I know, I\\'m such an idiot. I guess I should have caught on when she started going to the dentist four and five times a week. I mean, how clean can teeth get?\\n\\nMonica: My brother\\'s going through that right now, he\\'s such a mess. How did you get through it?\\n\\nPaul: Well, you might try accidentally breaking something valuable of hers, say her-\\n\\nMonica: -leg?\\n\\nPaul: (laughing) That\\'s one way! Me, I- I went for the watch.\\n\\nMonica: You actually broke her watch?  Wow!  The worst thing I ever did was, I-I shredded by boyfriend\\'s favorite bath towel.\\n\\nPaul: Ooh, steer clear of you.\\n\\nMonica: That\\'s right. [Scene: Monica\\'s Apartment, Rachel is talking on the phone and pacing.]\\n\\nRachel: Barry, I\\'m sorry... I am so sorry... I know you probably think that this is all about what I said the other day about you making love with your socks on, but it isn\\'t... it isn\\'t, it\\'s about me, and I ju- (She stops talking and dials the phone.) Hi, machine cut me off again... anyway...look, look, I know that some girl is going to be incredibly lucky to become Mrs. Barry Finkel, but it isn\\'t me, it\\'s not me.  And not that I have any idea who me is right now, but you just have to give me a chance too... (The maching cuts her off again and she redials.)\\n\\n[Scene: Ross\\'s Apartment; Ross is pacing while Joey and Chandler are working on some more furniture.]\\n\\nRoss: I\\'m divorced!  I\\'m only 26 and I\\'m divorced!\\n\\nJoey: Shut up!\\n\\nChandler: You must stop! (Chandler hits what he is working on with a hammer and it collapses.)\\n\\nRoss: That only took me an hour.\\n\\nChandler: Look, Ross, you gotta understand, between us we haven\\'t had a relationship that has lasted longer than a Mento.   You, however have had the love of a woman for four years.   Four years of closeness and sharing at the end of which she ripped your heart out, and that is why we don\\'t do it!  I don\\'t think that was my point!\\n\\nRoss: You know what the scariest part is? What if there\\'s only one woman for everybody, y\\'know? I mean what if you get one woman- and that\\'s it? Unfortunately in my case, there was only one woman- for her...\\n\\nJoey: What are you talking about? \\'One woman\\'? That\\'s like saying there\\'s only one flavor of ice cream for you. Lemme tell you something, Ross. There\\'s lots of flavors out there. There\\'s Rocky Road, and Cookie Dough, and Bing! Cherry Vanilla. You could get \\'em with Jimmies, or nuts, or whipped cream! This is the best thing that ever happened to you! You got married, you were, like, what, eight? Welcome back to the world! Grab a spoon!\\n\\nRoss: I honestly don\\'t know if I\\'m hungry or horny.\\n\\nChandler: Stay out of my freezer! [Scene: A Restaurant, Monica and Paul are still eating.]\\n\\nPaul: Ever since she walked out on me, I, uh...\\n\\nMonica: What?..... What, you wanna spell it out with noodles?\\n\\nPaul: No, it\\'s, it\\'s more of a fifth date kinda revelation.\\n\\nMonica: Oh, so there is gonna be a fifth date?\\n\\nPaul: Isn\\'t there?\\n\\nMonica: Yeah... yeah, I think there is. -What were you gonna say?\\n\\nPaul: Well, ever-ev-... ever since she left me, um, I haven\\'t been able to, uh, perform. (Monica takes a sip of her drink.) ...Sexually.\\n\\nMonica: (spitting out her drink in shock) Oh God, oh God, I am sorry... I am so sorry...\\n\\nPaul: It\\'s okay...\\n\\nMonica: I know being spit on is probably not what you need right now. Um... how long?\\n\\nPaul: Two years.\\n\\nMonica: Wow! I\\'m-I\\'m-I\\'m glad you smashed her watch!\\n\\nPaul: So you still think you, um... might want that fifth date?\\n\\nMonica: (pause)...Yeah. Yeah, I do.\\n\\n[Scene: Monica\\'s Apartment, Rachel is watching Joanne Loves Chaci.]\\n\\nPriest on TV: We are gathered here today to join Joanne Louise Cunningham and Charles, Chachi-Chachi-Chachi, Arcola in the bound of holy matrimony.\\n\\nRachel: Oh...see... but Joanne loved Chachi! That\\'s the difference!\\n\\n[Scene: Ross\\'s Apartment, they\\'re all sitting around and talking.]\\n\\nRoss: (scornful) Grab a spoon. Do you know how long it\\'s been since I\\'ve grabbed a spoon? Do the words \\'Billy, don\\'t be a hero\\' mean anything to you?\\n\\nJoey: Great story!  But, I uh, I gotta go, I got a date with Andrea--Angela--Andrea...  Oh man, (looks to Chandler)\\n\\nChandler: Angela\\'s the screamer, Andrea has cats.\\n\\nJoey: Right.  Thanks.  It\\'s June.  I\\'m outta here. (Exits.)\\n\\nRoss: Y\\'know, here\\'s the thing. Even if I could get it together enough to- to ask a woman out,... who am I gonna ask? (He gazes out of the window.)\\n\\n[Cut to Rachel staring out of her window.]\\n\\nCommercial Break\\n\\n[Scene: Monica\\'s Apartment, Rachel is making coffee for Joey and Chandler.]\\n\\nRachel: Isn\\'t this amazing? I mean, I have never made coffee before in my entire life.\\n\\nChandler: That is amazing.\\n\\nJoey: Congratulations.\\n\\nRachel: Y\\'know, I figure if I can make coffee, there isn\\'t anything I can\\'t do.\\n\\nChandler: If can invade Poland, there isn\\'t anything I can\\'t do.\\n\\nJoey: Listen, while you\\'re on a roll, if you feel like you gotta make like a Western omelet or something... (Joey and Chandler taste the coffee, grimace, and pour it into a plant pot.) Although actually I\\'m really not that hungry...\\n\\nMonica: (entering, to herself) Oh good, Lenny and Squigy are here.\\n\\nAll: Morning. Good morning.\\n\\nPaul: (entering from Monica\\'s room) Morning.\\n\\nJoey: Morning, Paul.\\n\\nRachel: Hello, Paul.\\n\\nChandler: Hi, Paul, is it?\\n\\n(Monica and Paul walk to the door and talk in a low voice so the others can\\'t hear.  The others move Monica\\'s table closer to the door so that they can.)\\n\\nPaul: Thank you!  Thank you so much!\\n\\nMonica: Stop!\\n\\nPaul: No, I\\'m telling you last night was like umm, all my birthdays, both graduations, plus the barn raising scene in Witness.\\n\\nMonica: We\\'ll talk later.\\n\\nPaul: Yeah. (They kiss) Thank you. (Exits)\\n\\nJoey: That wasn\\'t a real date?! What the hell do you do on a real date?\\n\\nMonica: Shut up, and put my table back.\\n\\nAll: Okayyy! (They do so.)\\n\\nChandler: All right, kids, I gotta get to work. If I don\\'t input those numbers,... it doesn\\'t make much of a difference...\\n\\nRachel: So, like, you guys all have jobs?\\n\\nMonica: Yeah, we all have jobs. See, that\\'s how we buy stuff.\\n\\nJoey: Yeah, I\\'m an actor.\\n\\nRachel: Wow! Would I have seen you in anything?\\n\\nJoey: I doubt it. Mostly regional work.\\n\\nMonica: Oh wait, wait, unless you happened to catch the Reruns\\' production of Pinocchio, at the little theater in the park.\\n\\nJoey: Look, it was a job all right?\\n\\nChandler: \\'Look, Gippetto, I\\'m a real live boy.\\'\\n\\nJoey: I will not take this abuse. (Walks to the door and opens it to leave.)\\n\\nChandler: You\\'re right, I\\'m sorry. (Burst into song and dances out of the door.) \"Once I was a wooden boy, a little wooden boy...\"\\n\\nJoey: You should both know, that he\\'s a dead man.  Oh, Chandler? (Starts after Chandler.)\\n\\nMonica: So how you doing today? Did you sleep okay? Talk to Barry? I can\\'t stop smiling.\\n\\nRachel: I can see that. You look like you slept with a hanger in your mouth.\\n\\nMonica: I know, he\\'s just so, so... Do you remember you and Tony DeMarco?\\n\\nRachel: Oh, yeah.\\n\\nMonica: Well, it\\'s like that. With feelings.\\n\\nRachel: Oh wow. Are you in trouble.\\n\\nMonica: Big time!\\n\\nRachel: Want a wedding dress?   Hardly used.\\n\\nMonica: I think we are getting a little ahead of selves here. Okay. Okay. I am just going to get up, go to work and not think about him all day. Or else I\\'m just gonna get up and go to work.\\n\\nRachel: Oh, look, wish me luck!\\n\\nMonica: What for?\\n\\nRachel: I\\'m gonna go get one of those (Thinks) job things.\\n\\n(Monica exits.)\\n\\n[Scene: Iridium, Monica is working as Frannie enters.]\\n\\nFrannie: Hey, Monica!\\n\\nMonica: Hey Frannie, welcome back! How was Florida?\\n\\nFrannie: You had sex, didn\\'t you?\\n\\nMonica: How do you do that?\\n\\nFrannie: Oh, I hate you, I\\'m pushing my Aunt Roz through Parrot Jungle and you\\'re having sex!  So? Who?\\n\\nMonica: You know Paul?\\n\\nFrannie: Paul the Wine Guy? Oh yeah, I know Paul.\\n\\nMonica: You mean you know Paul like I know Paul?\\n\\nFrannie: Are you kidding? I take credit for Paul. Y\\'know before me, there was no snap in his turtle for two years.\\n\\n[Scene: Central Perk, everyone but Rachel is there.]\\n\\nJoey: (sitting on the arm of the couch)Of course it was a line!\\n\\nMonica: Why?! Why? Why, why would anybody do something like that?\\n\\nRoss: I assume we\\'re looking for an answer more sophisticated than \\'to get you into bed\\'.\\n\\nMonica: I hate men!  I hate men!\\n\\nPhoebe: Oh no, don\\'t hate, you don\\'t want to put that out into the universe.\\n\\nMonica: Is it me? Is it like I have some sort of beacon that only dogs and men with severe emotional problems can hear?\\n\\nPhoebe: All right, c\\'mere, gimme your feet. (She starts massaging them.)\\n\\nMonica: I just thought he was nice, y\\'know?\\n\\nJoey: (bursts out laughing again) I can\\'t believe you didn\\'t know it was a line!\\n\\n(Monica pushes him off of the sofa as Rachel enters with a shopping bag.)\\n\\nRachel: Guess what?\\n\\nRoss: You got a job?\\n\\nRachel: Are you kidding? I\\'m trained for nothing! I was laughed out of twelve interviews today.\\n\\nChandler: And yet you\\'re surprisingly upbeat.\\n\\nRachel: You would be too if you found John and David boots on sale, fifty percent off!\\n\\nChandler: Oh, how well you know me...\\n\\nRachel: They\\'re my new \\'I don\\'t need a job, I don\\'t need my parents, I\\'ve got great boots\\' boots!\\n\\nMonica: How\\'d you pay for them?\\n\\nRachel: Uh, credit card.\\n\\nMonica: And who pays for that?\\n\\nRachel: Um... my... father.\\n\\n[Scene: Monica and Rachel\\'s, everyone is sitting around the kitchen table.   Rachel\\'s credit cards are spread out on the table along with a pair of scissors.]\\n\\nRachel: Oh God, come on you guys, is this really necessary?  I mean, I can stop charging anytime I want.\\n\\nMonica: C\\'mon, you can\\'t live off your parents your whole life.\\n\\nRachel: I know that. That\\'s why I was getting married.\\n\\nPhoebe: Give her a break, it\\'s hard being on your own for the first time.\\n\\nRachel: Thank you.\\n\\nPhoebe: You\\'re welcome. I remember when I first came to this city. I was fourteen. My mom had just killed herself and my step-dad was back in prison, and I got here, and I didn\\'t know anybody. And I ended up living with this albino guy who was, like, cleaning windshields outside port authority, and then he killed himself, and then I found aromatherapy. So believe me, I know exactly how you feel.\\n\\n(Pause)\\n\\nRoss: The word you\\'re looking for is \\'Anyway\\'...\\n\\nMonica: All right, you ready?\\n\\nRachel: No.  No, no, I\\'m not ready!  How can I be ready?  \"Hey, Rach!  You ready to jump out the airplane without your parachute?\"  Come on, I can\\'t do this!\\n\\nMonica: You can, I know you can!\\n\\nRachel: I don\\'t think so.\\n\\nRoss: Come on, you made coffee!   You can do anything! (Chandler slowly tries to hide the now dead plant from that morning when he and Joey poured their coffee into it.)\\n\\nRoss: C\\'mon, cut. Cut, cut, cut,...\\n\\nAll: Cut, cut, cut, cut, cut, cut, cut... (She cuts one of them and they cheer.)\\n\\nRachel: Y\\'know what?  I think we can just leave it at that.  It\\'s kinda like a symbolic gesture...\\n\\nMonica:  Rachel!  That was a library card!\\n\\nAll: Cut, cut, cut, cut, cut, cut, cut..\\n\\nChandler: (as Rachel is cutting up her cards) Y\\'know, if you listen closely, you can hear a thousand retailers scream.\\n\\n(She finishes cutting them up and they all cheer.)\\n\\nMonica: Welcome to the real world! It sucks. You\\'re gonna love it!\\n\\n[Time Lapse, Rachel and Ross are watching a TV channel finishes it\\'s broadcast day by playing the national anthem.]\\n\\nMonica: Well, that\\'s it (To Ross) You gonna crash on the couch?\\n\\nRoss: No. No, I gotta go home sometime.\\n\\nMonica: You be okay?\\n\\nRoss: Yeah.\\n\\nRachel: Hey Mon, look what I just found on the floor. (Monica smiles.) What?\\n\\nMonica: That\\'s Paul\\'s watch. You just put it back where you found it. Oh boy. Alright. Goodnight, everybody.\\n\\nRoss and Rachel: Goodnight.\\n\\n(Monica stomps on Paul\\'s watch and goes into her room.)\\n\\nRoss: Mmm. (They both reach for the last cookie) Oh, no-\\n\\nRachel: Sorry-\\n\\nRoss: No no no, go-\\n\\nRachel: No, you have it, really, I don\\'t want it-\\n\\nRoss: Split it?\\n\\nRachel: Okay.\\n\\nRoss: Okay. (They split it.) You know you probably didn\\'t know this, but back in high school, I had a, um, major crush on you.\\n\\nRachel: I knew.\\n\\nRoss: You did! Oh.... I always figured you just thought I was Monica\\'s geeky older brother.\\n\\nRachel: I did.\\n\\nRoss: Oh. Listen, do you think- and try not to let my intense vulnerability become any kind of a factor here- but do you think it would be okay if I asked you out? Sometime? Maybe?\\n\\nRachel: Yeah, maybe...\\n\\nRoss: Okay... okay, maybe I will...\\n\\nRachel: Goodnight.\\n\\nRoss: Goodnight.\\n\\n(Rachel goes into her room and Monica enters the living room as Ross is leaving.)\\n\\nMonica: See ya.... Waitwait, what\\'s with you?\\n\\nRoss: I just grabbed a spoon. (Ross exits and Monica has no idea what that means.)\\n\\nClosing Credits\\n\\n[Scene: Central Perk, everyone is there.]\\n\\nJoey: I can\\'t believe what I\\'m hearing here.\\n\\nPhoebe: (sings) I can\\'t believe what I\\'m hearing here...\\n\\nMonica: What? I-I said you had a-\\n\\nPhoebe: (sings) What I said you had...\\n\\nMonica: (to Phoebe) Would you stop?\\n\\nPhoebe: Oh, was I doing it again?\\n\\nAll: Yes!\\n\\nMonica: I said that you had a nice butt, it\\'s just not a great butt.\\n\\nJoey: Oh, you wouldn\\'t know a great butt if it came up and bit ya.\\n\\nRoss: There\\'s an image.\\n\\nRachel: (walks up with a pot of coffee) Would anybody like more coffee?\\n\\nChandler: Did you make it, or are you just serving it?\\n\\nRachel: I\\'m just serving it.\\n\\nAll: Yeah. Yeah, I\\'ll have a cup of coffee.\\n\\nChandler: Kids, new dream... I\\'m in Las Vegas. (Rachel sits down to hear Chandler\\'s dream.)\\n\\nCustomer: (To Rachel) Ahh, miss?   More coffee?\\n\\nRachel: Ugh. (To another customer that\\'s leaving.) Excuse me, could you give this to that guy over there? (Hands him the coffee pot.) Go ahead. (He does so.) Thank you. (To the gang.) Sorry.  Okay, Las Vegas.\\n\\nChandler: Okay, so, I\\'m in Las Vegas... I\\'m Liza Minelli-\\n\\nEnd'"
            ],
            "application/vnd.google.colaboratory.intrinsic+json": {
              "type": "string"
            }
          },
          "metadata": {},
          "execution_count": 8
        }
      ]
    },
    {
      "cell_type": "code",
      "source": [
        "# 지문규칙 : 여는 괄호+마지막 소문자 또는 마침표+닫는 괄호\n"
      ],
      "metadata": {
        "colab": {
          "base_uri": "https://localhost:8080/"
        },
        "id": "pkXa45WIaa9u",
        "outputId": "ef69cb88-6af9-4756-d5ac-26231f261e36"
      },
      "execution_count": null,
      "outputs": [
        {
          "output_type": "execute_result",
          "data": {
            "text/plain": [
              "['(The Pilot-The Uncut Version)',\n",
              " '(Note: The previously unseen parts of this episode are shown in blue text.)',\n",
              " '(They all stare, bemused.)',\n",
              " '(mortified)',\n",
              " '(explaining to the others)',\n",
              " '(to Ross)',\n",
              " '(She starts to pluck at the air just in front of Ross.)',\n",
              " '(They all stare at him.)',\n",
              " '(Ross gestures his consent.)',\n",
              " '(Rachel enters in a wet wedding dress and starts to search the room.)']"
            ]
          },
          "metadata": {},
          "execution_count": 9
        }
      ]
    }
  ]
}