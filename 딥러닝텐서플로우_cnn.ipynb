{
  "nbformat": 4,
  "nbformat_minor": 0,
  "metadata": {
    "colab": {
      "provenance": [],
      "authorship_tag": "ABX9TyMmHi0P/tP8Tc0rwnSea15g",
      "include_colab_link": true
    },
    "kernelspec": {
      "name": "python3",
      "display_name": "Python 3"
    },
    "language_info": {
      "name": "python"
    },
    "accelerator": "GPU",
    "gpuClass": "standard"
  },
  "cells": [
    {
      "cell_type": "markdown",
      "metadata": {
        "id": "view-in-github",
        "colab_type": "text"
      },
      "source": [
        "<a href=\"https://colab.research.google.com/github/min-program/Deep_learning/blob/main/%EB%94%A5%EB%9F%AC%EB%8B%9D%ED%85%90%EC%84%9C%ED%94%8C%EB%A1%9C%EC%9A%B0_cnn.ipynb\" target=\"_parent\"><img src=\"https://colab.research.google.com/assets/colab-badge.svg\" alt=\"Open In Colab\"/></a>"
      ]
    },
    {
      "cell_type": "markdown",
      "source": [],
      "metadata": {
        "id": "eNEDkQbRFiwc"
      }
    },
    {
      "cell_type": "code",
      "execution_count": 1,
      "metadata": {
        "id": "rSpuEmSGD35j"
      },
      "outputs": [],
      "source": [
        "import tensorflow as tf"
      ]
    },
    {
      "cell_type": "code",
      "source": [
        "mnist = tf.keras.datasets.mnist\n",
        "(x_train, y_train),(x_valid,y_valid) = mnist.load_data()"
      ],
      "metadata": {
        "colab": {
          "base_uri": "https://localhost:8080/"
        },
        "id": "BNPnCRi-FoW8",
        "outputId": "487b8b88-3337-43cc-cf42-916f0f77557e"
      },
      "execution_count": 2,
      "outputs": [
        {
          "output_type": "stream",
          "name": "stdout",
          "text": [
            "Downloading data from https://storage.googleapis.com/tensorflow/tf-keras-datasets/mnist.npz\n",
            "11490434/11490434 [==============================] - 0s 0us/step\n"
          ]
        }
      ]
    },
    {
      "cell_type": "code",
      "source": [
        "import matplotlib.pylab as plt\n",
        "\n",
        "def plot_image(data, idx):\n",
        "  plt.figure(figsize=(5,5))\n",
        "  plt.imshow(data[idx], cmap='gray')\n",
        "  plt.axis(\"off\")\n",
        "  plt.show()\n",
        "\n",
        "plot_image(x_train, 20)\n",
        "\n",
        "\n",
        "\n"
      ],
      "metadata": {
        "colab": {
          "base_uri": "https://localhost:8080/",
          "height": 303
        },
        "id": "mDTRze5EGNWy",
        "outputId": "71ef6fb6-26c0-4b09-f088-762ae2b5d67c"
      },
      "execution_count": 3,
      "outputs": [
        {
          "output_type": "display_data",
          "data": {
            "text/plain": [
              "<Figure size 360x360 with 1 Axes>"
            ],
            "image/png": "[encoded data removed]"
          },
          "metadata": {
            "needs_background": "light"
          }
        }
      ]
    },
    {
      "cell_type": "code",
      "source": [
        "print(x_train.min(), x_train.max())\n",
        "print(x_train.min(), x_valid.max())"
      ],
      "metadata": {
        "colab": {
          "base_uri": "https://localhost:8080/"
        },
        "id": "pe6CERKkLAzc",
        "outputId": "18067a01-c44d-4ab9-d581-201a05b33721"
      },
      "execution_count": 4,
      "outputs": [
        {
          "output_type": "stream",
          "name": "stdout",
          "text": [
            "0 255\n",
            "0 255\n"
          ]
        }
      ]
    },
    {
      "cell_type": "code",
      "source": [
        "#x_train=x_train/255.0\n",
        "#x_valid=x_valid/255.0\n",
        "\n",
        "print(x_train.min(),x_train.max())\n",
        "print(x_valid.min(), x_valid.max())"
      ],
      "metadata": {
        "colab": {
          "base_uri": "https://localhost:8080/"
        },
        "id": "LQve3QCKLQAM",
        "outputId": "1eb5dbb6-9859-4fee-db41-d240743872f4"
      },
      "execution_count": 5,
      "outputs": [
        {
          "output_type": "stream",
          "name": "stdout",
          "text": [
            "0 255\n",
            "0 255\n"
          ]
        }
      ]
    },
    {
      "cell_type": "code",
      "source": [
        "print(x_train.shape, x_valid.shape)\n",
        "\n",
        "x_train_in = x_train[..., tf.newaxis]\n",
        "x_valid_in = x_valid[..., tf.newaxis]\n",
        "\n",
        "print(x_train_in.shape, x_valid_in.shape)"
      ],
      "metadata": {
        "colab": {
          "base_uri": "https://localhost:8080/"
        },
        "id": "VddZ18KqNNxz",
        "outputId": "85597919-cc25-4ac0-d334-2bd08e610c3c"
      },
      "execution_count": 6,
      "outputs": [
        {
          "output_type": "stream",
          "name": "stdout",
          "text": [
            "(60000, 28, 28) (10000, 28, 28)\n",
            "(60000, 28, 28, 1) (10000, 28, 28, 1)\n"
          ]
        }
      ]
    },
    {
      "cell_type": "code",
      "source": [
        "with tf.device('/device:GPU:0'):\n",
        " model = tf.keras.Sequential([\n",
        "    tf.keras.layers.Conv2D(32,(3,3), activation='relu',\n",
        "                           input_shape=(28,28,1), name='conv'),\n",
        "    #Max Pooling 적용\n",
        "    tf.keras.layers.MaxPooling2D((2,2), name='pool'),\n",
        "\n",
        "    tf.keras.layers.Flatten(),\n",
        "    tf.keras.layers.Dense(10, activation='softmax')\n",
        "]\n",
        ")"
      ],
      "metadata": {
        "id": "01VgMWn6NyWB"
      },
      "execution_count": 7,
      "outputs": []
    },
    {
      "cell_type": "code",
      "source": [
        "#모델 컴파일\n",
        "model.compile(optimizer='adam', loss='sparse_categorical_crossentropy',\n",
        "              metrics=['accuracy'])\n",
        "\n",
        "#모델 훈련\n",
        "history=model.fit(x_train_in, y_train,\n",
        "                  validation_data=(x_valid_in, y_valid),\n",
        "                  epochs=10)"
      ],
      "metadata": {
        "colab": {
          "base_uri": "https://localhost:8080/"
        },
        "id": "E5uCpCCXRIJI",
        "outputId": "db2d53da-bf08-4265-dfaf-6ca5f8f5a088"
      },
      "execution_count": 8,
      "outputs": [
        {
          "output_type": "stream",
          "name": "stdout",
          "text": [
            "Epoch 1/10\n",
            "1875/1875 [==============================] - 16s 3ms/step - loss: 0.5844 - accuracy: 0.9376 - val_loss: 0.1073 - val_accuracy: 0.9688\n",
            "Epoch 2/10\n",
            "1875/1875 [==============================] - 5s 3ms/step - loss: 0.0894 - accuracy: 0.9733 - val_loss: 0.0993 - val_accuracy: 0.9721\n",
            "Epoch 3/10\n",
            "1875/1875 [==============================] - 5s 3ms/step - loss: 0.0700 - accuracy: 0.9788 - val_loss: 0.1071 - val_accuracy: 0.9717\n",
            "Epoch 4/10\n",
            "1875/1875 [==============================] - 5s 3ms/step - loss: 0.0589 - accuracy: 0.9823 - val_loss: 0.1086 - val_accuracy: 0.9722\n",
            "Epoch 5/10\n",
            "1875/1875 [==============================] - 5s 3ms/step - loss: 0.0530 - accuracy: 0.9837 - val_loss: 0.1252 - val_accuracy: 0.9706\n",
            "Epoch 6/10\n",
            "1875/1875 [==============================] - 5s 3ms/step - loss: 0.0450 - accuracy: 0.9863 - val_loss: 0.1346 - val_accuracy: 0.9721\n",
            "Epoch 7/10\n",
            "1875/1875 [==============================] - 5s 3ms/step - loss: 0.0429 - accuracy: 0.9876 - val_loss: 0.1385 - val_accuracy: 0.9722\n",
            "Epoch 8/10\n",
            "1875/1875 [==============================] - 5s 3ms/step - loss: 0.0336 - accuracy: 0.9901 - val_loss: 0.1675 - val_accuracy: 0.9750\n",
            "Epoch 9/10\n",
            "1875/1875 [==============================] - 6s 3ms/step - loss: 0.0346 - accuracy: 0.9903 - val_loss: 0.1924 - val_accuracy: 0.9726\n",
            "Epoch 10/10\n",
            "1875/1875 [==============================] - 6s 3ms/step - loss: 0.0327 - accuracy: 0.9915 - val_loss: 0.2070 - val_accuracy: 0.9739\n"
          ]
        }
      ]
    },
    {
      "cell_type": "code",
      "source": [
        "model.evaluate(x_valid_in, y_valid)"
      ],
      "metadata": {
        "colab": {
          "base_uri": "https://localhost:8080/"
        },
        "id": "CnUAN9FxWeEO",
        "outputId": "c99f9da5-0111-4800-ea4a-aae2d233ec40"
      },
      "execution_count": 9,
      "outputs": [
        {
          "output_type": "stream",
          "name": "stdout",
          "text": [
            "313/313 [==============================] - 1s 2ms/step - loss: 0.2070 - accuracy: 0.9739\n"
          ]
        },
        {
          "output_type": "execute_result",
          "data": {
            "text/plain": [
              "[0.20700319111347198, 0.9739000201225281]"
            ]
          },
          "metadata": {},
          "execution_count": 9
        }
      ]
    },
    {
      "cell_type": "code",
      "source": [
        "def plot_loss_acc(history, epoch):\n",
        "  \n",
        "  loss, val_loss=history.history['loss'],history.history['val_loss']\n",
        "  acc, val_acc=history.history['accuracy'],history.history['val_accuracy']\n",
        "\n",
        "  fig, axes=plt.subplots(1,2,figsize=(12,4))\n",
        "\n",
        "  axes[0].plot(range(1, epoch+1), loss, label='Training')\n",
        "  axes[0].plot(range(1, epoch+1), val_loss, label='Validation')\n",
        "  axes[0].legend(loc='best')\n",
        "  axes[0].set_title('Loss')\n",
        "\n",
        "  axes[1].plot(range(1, epoch+1), acc, label='Training')\n",
        "  axes[1].plot(range(1, epoch+1), val_acc, label='Validation')\n",
        "  axes[1].legend(loc='best')\n",
        "  axes[1].set_title('Accuracy')\n",
        "\n",
        "  plt.show()\n",
        "\n",
        "\n",
        "plot_loss_acc(history, 10)\n",
        "\n"
      ],
      "metadata": {
        "colab": {
          "base_uri": "https://localhost:8080/",
          "height": 281
        },
        "id": "G7rr95xHWjyP",
        "outputId": "60774a83-2d7f-4cc9-a066-9132f6507b7b"
      },
      "execution_count": 10,
      "outputs": [
        {
          "output_type": "display_data",
          "data": {
            "text/plain": [
              "<Figure size 864x288 with 2 Axes>"
            ],
            "image/png": "[encoded data removed]"
          },
          "metadata": {
            "needs_background": "light"
          }
        }
      ]
    },
    {
      "cell_type": "code",
      "source": [
        "model.summary()"
      ],
      "metadata": {
        "colab": {
          "base_uri": "https://localhost:8080/"
        },
        "id": "BrrXBNm3ispw",
        "outputId": "d6e434cc-59ed-4fef-a481-4afbec895ae8"
      },
      "execution_count": 11,
      "outputs": [
        {
          "output_type": "stream",
          "name": "stdout",
          "text": [
            "Model: \"sequential\"\n",
            "_________________________________________________________________\n",
            " Layer (type)                Output Shape              Param #   \n",
            "=================================================================\n",
            " conv (Conv2D)               (None, 26, 26, 32)        320       \n",
            "                                                                 \n",
            " pool (MaxPooling2D)         (None, 13, 13, 32)        0         \n",
            "                                                                 \n",
            " flatten (Flatten)           (None, 5408)              0         \n",
            "                                                                 \n",
            " dense (Dense)               (None, 10)                54090     \n",
            "                                                                 \n",
            "=================================================================\n",
            "Total params: 54,410\n",
            "Trainable params: 54,410\n",
            "Non-trainable params: 0\n",
            "_________________________________________________________________\n"
          ]
        }
      ]
    },
    {
      "cell_type": "code",
      "source": [
        "model.input"
      ],
      "metadata": {
        "colab": {
          "base_uri": "https://localhost:8080/"
        },
        "id": "7MVcYZpZjLjW",
        "outputId": "92d7b005-309e-48cc-c796-85f3e3ffefbb"
      },
      "execution_count": 12,
      "outputs": [
        {
          "output_type": "execute_result",
          "data": {
            "text/plain": [
              "<KerasTensor: shape=(None, 28, 28, 1) dtype=float32 (created by layer 'conv_input')>"
            ]
          },
          "metadata": {},
          "execution_count": 12
        }
      ]
    },
    {
      "cell_type": "code",
      "source": [
        "model.output"
      ],
      "metadata": {
        "colab": {
          "base_uri": "https://localhost:8080/"
        },
        "id": "2T3cS_Cklia3",
        "outputId": "b903a435-8788-4bf2-e7c1-26a01eb797e0"
      },
      "execution_count": 13,
      "outputs": [
        {
          "output_type": "execute_result",
          "data": {
            "text/plain": [
              "<KerasTensor: shape=(None, 10) dtype=float32 (created by layer 'dense')>"
            ]
          },
          "metadata": {},
          "execution_count": 13
        }
      ]
    },
    {
      "cell_type": "code",
      "source": [
        "model.layers"
      ],
      "metadata": {
        "colab": {
          "base_uri": "https://localhost:8080/"
        },
        "id": "d8MkKqJolnnv",
        "outputId": "95aafef4-dec2-4f68-b5ec-68aa0faf4958"
      },
      "execution_count": 14,
      "outputs": [
        {
          "output_type": "execute_result",
          "data": {
            "text/plain": [
              "[<keras.layers.convolutional.conv2d.Conv2D at 0x7fae4e3923d0>,\n",
              " <keras.layers.pooling.max_pooling2d.MaxPooling2D at 0x7fae4e392370>,\n",
              " <keras.layers.reshaping.flatten.Flatten at 0x7fae4e392280>,\n",
              " <keras.layers.core.dense.Dense at 0x7fae4e36bfa0>]"
            ]
          },
          "metadata": {},
          "execution_count": 14
        }
      ]
    },
    {
      "cell_type": "code",
      "source": [
        "model.layers[0]"
      ],
      "metadata": {
        "colab": {
          "base_uri": "https://localhost:8080/"
        },
        "id": "NNVYR9JIlvPY",
        "outputId": "ab509af1-a985-4437-80e3-61802727dca3"
      },
      "execution_count": 15,
      "outputs": [
        {
          "output_type": "execute_result",
          "data": {
            "text/plain": [
              "<keras.layers.convolutional.conv2d.Conv2D at 0x7fae4e3923d0>"
            ]
          },
          "metadata": {},
          "execution_count": 15
        }
      ]
    },
    {
      "cell_type": "code",
      "source": [
        "model.layers[0].input"
      ],
      "metadata": {
        "colab": {
          "base_uri": "https://localhost:8080/"
        },
        "id": "NTwRnRhUl9-N",
        "outputId": "81afe067-35ab-4730-e996-03af8f07ed4f"
      },
      "execution_count": 16,
      "outputs": [
        {
          "output_type": "execute_result",
          "data": {
            "text/plain": [
              "<KerasTensor: shape=(None, 28, 28, 1) dtype=float32 (created by layer 'conv_input')>"
            ]
          },
          "metadata": {},
          "execution_count": 16
        }
      ]
    },
    {
      "cell_type": "code",
      "source": [
        "model.layers[0].output"
      ],
      "metadata": {
        "colab": {
          "base_uri": "https://localhost:8080/"
        },
        "id": "EACryaLWmC3g",
        "outputId": "5a76ff95-3b53-41eb-aa7e-54c34e335286"
      },
      "execution_count": 17,
      "outputs": [
        {
          "output_type": "execute_result",
          "data": {
            "text/plain": [
              "<KerasTensor: shape=(None, 26, 26, 32) dtype=float32 (created by layer 'conv')>"
            ]
          },
          "metadata": {},
          "execution_count": 17
        }
      ]
    },
    {
      "cell_type": "code",
      "source": [
        "model.layers[0].weights"
      ],
      "metadata": {
        "colab": {
          "base_uri": "https://localhost:8080/"
        },
        "id": "7M3bbc2vmGKY",
        "outputId": "c9fed8a8-1165-4209-f65a-d62d4c4266d0"
      },
      "execution_count": 18,
      "outputs": [
        {
          "output_type": "execute_result",
          "data": {
            "text/plain": [
              "[<tf.Variable 'conv/kernel:0' shape=(3, 3, 1, 32) dtype=float32, numpy=\n",
              " array([[[[-1.86820030e-01, -2.13106349e-02, -6.46186918e-02,\n",
              "           -2.90228669e-02, -7.62033612e-02, -1.61159366e-01,\n",
              "           -1.63028449e-01, -1.94323659e-01,  5.86176030e-02,\n",
              "           -1.92630798e-01, -1.54216178e-02, -1.06618265e-02,\n",
              "           -8.60002488e-02,  2.25558132e-03, -1.16948895e-01,\n",
              "           -2.82574117e-01, -6.14541247e-02, -1.83658585e-01,\n",
              "           -1.11302845e-02,  1.13551822e-02,  2.50172559e-02,\n",
              "           -2.38237809e-02, -1.59737989e-01, -1.16507672e-01,\n",
              "           -1.14642330e-01, -1.49103850e-01, -1.19732565e-03,\n",
              "           -1.13267049e-01, -1.38475910e-01, -9.50219110e-03,\n",
              "           -1.04867481e-02, -1.44027516e-01]],\n",
              " \n",
              "         [[ 9.50830802e-02,  4.44488879e-03, -7.75347054e-02,\n",
              "           -1.10803742e-03, -1.97694555e-01,  1.94572434e-02,\n",
              "           -5.42142056e-02, -4.09113348e-01, -2.05177367e-01,\n",
              "            4.43457849e-02,  6.11737254e-04, -6.22352585e-02,\n",
              "           -8.56533125e-02, -1.05052270e-01,  1.13884345e-01,\n",
              "            9.67362151e-02, -1.15394555e-01, -5.07915281e-02,\n",
              "           -1.05317138e-01,  1.25795752e-02,  3.56325656e-02,\n",
              "            1.00474298e-01, -3.64819635e-03, -2.90890783e-01,\n",
              "           -1.84045389e-01,  1.07429940e-02, -1.34758398e-01,\n",
              "           -1.26213739e-02, -7.69628258e-03, -1.82271488e-02,\n",
              "            4.89932261e-02,  7.39996210e-02]],\n",
              " \n",
              "         [[-1.23224646e-01, -3.26896310e-02, -3.09236031e-02,\n",
              "           -1.86203495e-02, -2.12346576e-02, -6.55253381e-02,\n",
              "           -6.84485659e-02, -3.18988472e-01, -8.62089992e-02,\n",
              "           -6.78805960e-03, -3.61906923e-02, -1.33699372e-01,\n",
              "           -1.01717331e-01, -2.97064871e-01, -1.32213533e-01,\n",
              "           -1.58331066e-01, -3.96781117e-02, -1.16872811e-03,\n",
              "           -6.72674254e-02, -1.71122223e-01, -1.09433144e-01,\n",
              "           -7.09619150e-02, -6.20163232e-03, -1.15816057e-01,\n",
              "            1.58126596e-02, -4.98679327e-03, -6.52306899e-02,\n",
              "           -7.96863064e-03,  4.77168597e-02, -1.62549779e-01,\n",
              "            2.79285796e-02, -1.65192008e-01]]],\n",
              " \n",
              " \n",
              "        [[[-2.51873061e-02, -1.01983905e-01,  2.61656661e-02,\n",
              "           -5.76289706e-02, -2.08256319e-01, -1.85190618e-01,\n",
              "           -1.63069159e-01, -9.09721553e-02, -1.70204252e-01,\n",
              "           -3.33674997e-02,  1.83750980e-03, -1.15540966e-01,\n",
              "           -2.25336701e-01,  8.10685009e-02, -1.43822879e-01,\n",
              "           -1.04897417e-01,  5.63725568e-02, -8.59250128e-02,\n",
              "           -6.97090179e-02,  1.35376481e-02, -1.67777073e-02,\n",
              "           -6.93364665e-02,  3.33185599e-04,  1.44162580e-01,\n",
              "            1.17990002e-02,  8.73145312e-02, -2.43246019e-01,\n",
              "           -1.37192458e-01, -4.71979231e-02, -1.30587190e-01,\n",
              "           -1.22452311e-01, -2.21610516e-02]],\n",
              " \n",
              "         [[ 2.86942217e-02, -5.14268763e-02,  9.97672528e-02,\n",
              "           -3.38069610e-02,  1.73342854e-01,  4.14183028e-02,\n",
              "           -1.88307166e-01,  1.01545088e-01, -8.64712000e-02,\n",
              "            1.14183232e-01, -1.05774827e-01, -9.24676731e-02,\n",
              "            3.42313945e-02,  4.37522978e-02, -2.45287552e-01,\n",
              "           -6.74977303e-02,  1.10002577e-01, -1.77146450e-01,\n",
              "           -1.12646783e-03,  2.80961227e-02,  1.75103061e-02,\n",
              "            8.24266020e-03, -8.75229612e-02, -1.28791213e-01,\n",
              "           -1.05019659e-01,  8.02990496e-02, -7.43594300e-03,\n",
              "           -1.10913152e-02, -3.37781273e-02, -8.05238262e-03,\n",
              "           -3.20654847e-02, -1.78690121e-01]],\n",
              " \n",
              "         [[ 2.98075788e-02, -1.06350139e-01, -1.21379867e-01,\n",
              "           -1.05881266e-01,  1.53305326e-02, -5.95069751e-02,\n",
              "           -2.94302572e-02, -1.02615401e-01, -1.26282319e-01,\n",
              "           -4.56683561e-02, -4.96712630e-04,  1.45426378e-01,\n",
              "            8.40815008e-02, -4.16952163e-01, -3.72898191e-01,\n",
              "            5.79563621e-03, -5.17196804e-02, -6.89318255e-02,\n",
              "           -1.88699961e-01, -1.12578027e-01, -1.07291967e-01,\n",
              "           -1.26679495e-01, -2.13970678e-04, -1.21191129e-01,\n",
              "           -5.52497916e-02, -1.23706900e-01, -9.54249054e-02,\n",
              "           -3.42144743e-02,  4.27358933e-02, -3.34862731e-02,\n",
              "           -8.82998481e-02, -8.78931358e-02]]],\n",
              " \n",
              " \n",
              "        [[[-1.63436662e-02, -8.13086256e-02, -4.31030057e-02,\n",
              "           -4.71310038e-03,  2.64289808e-02, -3.41944061e-02,\n",
              "           -2.32656062e-01,  2.46228501e-02, -1.13588236e-01,\n",
              "           -2.09322736e-01, -1.25788022e-02, -2.86286250e-02,\n",
              "           -2.61677951e-01, -1.10675931e-01, -2.79965460e-01,\n",
              "           -4.63422872e-02, -2.06966698e-01, -1.52201522e-02,\n",
              "           -9.21561420e-02,  1.65371615e-02, -1.10267907e-01,\n",
              "           -1.57012641e-01, -2.60741320e-02, -1.62458286e-01,\n",
              "            4.63896394e-02, -2.53984798e-02, -1.51087716e-01,\n",
              "           -8.60916171e-03, -3.08809057e-02, -2.61330251e-02,\n",
              "            9.83457896e-04, -6.39363825e-02]],\n",
              " \n",
              "         [[-3.78875509e-02,  5.95070682e-02, -1.59911305e-01,\n",
              "           -2.05595425e-04, -2.84033805e-01, -6.14787154e-02,\n",
              "           -9.62702930e-02,  2.36656647e-02,  3.34458500e-02,\n",
              "           -2.28339434e-02, -2.15404970e-03, -1.41593859e-01,\n",
              "           -2.98711862e-02, -1.56793162e-01, -1.08204246e-01,\n",
              "           -9.65253934e-02, -2.15735985e-03,  6.06912002e-02,\n",
              "           -2.64732055e-02, -2.39977930e-02, -7.75923356e-02,\n",
              "           -1.49209768e-01, -1.37293652e-01,  8.01044255e-02,\n",
              "            5.90639142e-03, -3.16578120e-01,  1.84321627e-01,\n",
              "            5.99850784e-04, -5.10051847e-02, -1.86617707e-03,\n",
              "           -3.81534062e-02,  1.73409339e-02]],\n",
              " \n",
              "         [[-1.27412543e-01,  2.10339539e-02, -3.48133333e-02,\n",
              "           -8.41742307e-02, -1.32778227e-01, -2.84600835e-02,\n",
              "            4.01365571e-02, -1.64031400e-03, -1.80135801e-01,\n",
              "           -1.72454417e-01, -4.79017338e-03, -1.29956186e-01,\n",
              "            2.02761851e-02, -7.92841017e-02,  4.60410863e-02,\n",
              "           -8.96536782e-02, -6.45759776e-02, -1.14941277e-01,\n",
              "           -5.66344112e-02, -3.73732895e-02, -6.68060547e-03,\n",
              "           -2.68832478e-03, -1.15808594e-04, -1.99323948e-02,\n",
              "           -1.03301741e-01, -8.21444467e-02, -1.18735433e-01,\n",
              "           -1.90379738e-03, -4.15255576e-02, -2.95057483e-02,\n",
              "           -9.18979719e-02, -1.20400108e-01]]]], dtype=float32)>,\n",
              " <tf.Variable 'conv/bias:0' shape=(32,) dtype=float32, numpy=\n",
              " array([-0.41500384, -0.26077944, -0.3218062 , -0.13377567, -0.11497748,\n",
              "        -0.16219397, -0.04880478, -0.19364202,  0.00340584, -0.321797  ,\n",
              "        -0.38599372, -0.00469204, -0.00468628, -0.04974633, -0.00142128,\n",
              "        -0.07592194, -0.27866787, -0.06751982, -0.00732915, -0.51028526,\n",
              "        -0.06758638, -0.26339865, -0.28461024, -0.01331936, -0.01031275,\n",
              "        -0.35483098, -0.01304222, -0.16649932, -0.02255815, -0.35699826,\n",
              "        -0.03129569, -0.04802134], dtype=float32)>]"
            ]
          },
          "metadata": {},
          "execution_count": 18
        }
      ]
    },
    {
      "cell_type": "code",
      "source": [
        "model.layers[0].kernel"
      ],
      "metadata": {
        "colab": {
          "base_uri": "https://localhost:8080/"
        },
        "id": "2CnZTIFKmvjd",
        "outputId": "46bac45e-a19c-49ea-a23a-65ecfc2d2eb4"
      },
      "execution_count": 19,
      "outputs": [
        {
          "output_type": "execute_result",
          "data": {
            "text/plain": [
              "<tf.Variable 'conv/kernel:0' shape=(3, 3, 1, 32) dtype=float32, numpy=\n",
              "array([[[[-1.86820030e-01, -2.13106349e-02, -6.46186918e-02,\n",
              "          -2.90228669e-02, -7.62033612e-02, -1.61159366e-01,\n",
              "          -1.63028449e-01, -1.94323659e-01,  5.86176030e-02,\n",
              "          -1.92630798e-01, -1.54216178e-02, -1.06618265e-02,\n",
              "          -8.60002488e-02,  2.25558132e-03, -1.16948895e-01,\n",
              "          -2.82574117e-01, -6.14541247e-02, -1.83658585e-01,\n",
              "          -1.11302845e-02,  1.13551822e-02,  2.50172559e-02,\n",
              "          -2.38237809e-02, -1.59737989e-01, -1.16507672e-01,\n",
              "          -1.14642330e-01, -1.49103850e-01, -1.19732565e-03,\n",
              "          -1.13267049e-01, -1.38475910e-01, -9.50219110e-03,\n",
              "          -1.04867481e-02, -1.44027516e-01]],\n",
              "\n",
              "        [[ 9.50830802e-02,  4.44488879e-03, -7.75347054e-02,\n",
              "          -1.10803742e-03, -1.97694555e-01,  1.94572434e-02,\n",
              "          -5.42142056e-02, -4.09113348e-01, -2.05177367e-01,\n",
              "           4.43457849e-02,  6.11737254e-04, -6.22352585e-02,\n",
              "          -8.56533125e-02, -1.05052270e-01,  1.13884345e-01,\n",
              "           9.67362151e-02, -1.15394555e-01, -5.07915281e-02,\n",
              "          -1.05317138e-01,  1.25795752e-02,  3.56325656e-02,\n",
              "           1.00474298e-01, -3.64819635e-03, -2.90890783e-01,\n",
              "          -1.84045389e-01,  1.07429940e-02, -1.34758398e-01,\n",
              "          -1.26213739e-02, -7.69628258e-03, -1.82271488e-02,\n",
              "           4.89932261e-02,  7.39996210e-02]],\n",
              "\n",
              "        [[-1.23224646e-01, -3.26896310e-02, -3.09236031e-02,\n",
              "          -1.86203495e-02, -2.12346576e-02, -6.55253381e-02,\n",
              "          -6.84485659e-02, -3.18988472e-01, -8.62089992e-02,\n",
              "          -6.78805960e-03, -3.61906923e-02, -1.33699372e-01,\n",
              "          -1.01717331e-01, -2.97064871e-01, -1.32213533e-01,\n",
              "          -1.58331066e-01, -3.96781117e-02, -1.16872811e-03,\n",
              "          -6.72674254e-02, -1.71122223e-01, -1.09433144e-01,\n",
              "          -7.09619150e-02, -6.20163232e-03, -1.15816057e-01,\n",
              "           1.58126596e-02, -4.98679327e-03, -6.52306899e-02,\n",
              "          -7.96863064e-03,  4.77168597e-02, -1.62549779e-01,\n",
              "           2.79285796e-02, -1.65192008e-01]]],\n",
              "\n",
              "\n",
              "       [[[-2.51873061e-02, -1.01983905e-01,  2.61656661e-02,\n",
              "          -5.76289706e-02, -2.08256319e-01, -1.85190618e-01,\n",
              "          -1.63069159e-01, -9.09721553e-02, -1.70204252e-01,\n",
              "          -3.33674997e-02,  1.83750980e-03, -1.15540966e-01,\n",
              "          -2.25336701e-01,  8.10685009e-02, -1.43822879e-01,\n",
              "          -1.04897417e-01,  5.63725568e-02, -8.59250128e-02,\n",
              "          -6.97090179e-02,  1.35376481e-02, -1.67777073e-02,\n",
              "          -6.93364665e-02,  3.33185599e-04,  1.44162580e-01,\n",
              "           1.17990002e-02,  8.73145312e-02, -2.43246019e-01,\n",
              "          -1.37192458e-01, -4.71979231e-02, -1.30587190e-01,\n",
              "          -1.22452311e-01, -2.21610516e-02]],\n",
              "\n",
              "        [[ 2.86942217e-02, -5.14268763e-02,  9.97672528e-02,\n",
              "          -3.38069610e-02,  1.73342854e-01,  4.14183028e-02,\n",
              "          -1.88307166e-01,  1.01545088e-01, -8.64712000e-02,\n",
              "           1.14183232e-01, -1.05774827e-01, -9.24676731e-02,\n",
              "           3.42313945e-02,  4.37522978e-02, -2.45287552e-01,\n",
              "          -6.74977303e-02,  1.10002577e-01, -1.77146450e-01,\n",
              "          -1.12646783e-03,  2.80961227e-02,  1.75103061e-02,\n",
              "           8.24266020e-03, -8.75229612e-02, -1.28791213e-01,\n",
              "          -1.05019659e-01,  8.02990496e-02, -7.43594300e-03,\n",
              "          -1.10913152e-02, -3.37781273e-02, -8.05238262e-03,\n",
              "          -3.20654847e-02, -1.78690121e-01]],\n",
              "\n",
              "        [[ 2.98075788e-02, -1.06350139e-01, -1.21379867e-01,\n",
              "          -1.05881266e-01,  1.53305326e-02, -5.95069751e-02,\n",
              "          -2.94302572e-02, -1.02615401e-01, -1.26282319e-01,\n",
              "          -4.56683561e-02, -4.96712630e-04,  1.45426378e-01,\n",
              "           8.40815008e-02, -4.16952163e-01, -3.72898191e-01,\n",
              "           5.79563621e-03, -5.17196804e-02, -6.89318255e-02,\n",
              "          -1.88699961e-01, -1.12578027e-01, -1.07291967e-01,\n",
              "          -1.26679495e-01, -2.13970678e-04, -1.21191129e-01,\n",
              "          -5.52497916e-02, -1.23706900e-01, -9.54249054e-02,\n",
              "          -3.42144743e-02,  4.27358933e-02, -3.34862731e-02,\n",
              "          -8.82998481e-02, -8.78931358e-02]]],\n",
              "\n",
              "\n",
              "       [[[-1.63436662e-02, -8.13086256e-02, -4.31030057e-02,\n",
              "          -4.71310038e-03,  2.64289808e-02, -3.41944061e-02,\n",
              "          -2.32656062e-01,  2.46228501e-02, -1.13588236e-01,\n",
              "          -2.09322736e-01, -1.25788022e-02, -2.86286250e-02,\n",
              "          -2.61677951e-01, -1.10675931e-01, -2.79965460e-01,\n",
              "          -4.63422872e-02, -2.06966698e-01, -1.52201522e-02,\n",
              "          -9.21561420e-02,  1.65371615e-02, -1.10267907e-01,\n",
              "          -1.57012641e-01, -2.60741320e-02, -1.62458286e-01,\n",
              "           4.63896394e-02, -2.53984798e-02, -1.51087716e-01,\n",
              "          -8.60916171e-03, -3.08809057e-02, -2.61330251e-02,\n",
              "           9.83457896e-04, -6.39363825e-02]],\n",
              "\n",
              "        [[-3.78875509e-02,  5.95070682e-02, -1.59911305e-01,\n",
              "          -2.05595425e-04, -2.84033805e-01, -6.14787154e-02,\n",
              "          -9.62702930e-02,  2.36656647e-02,  3.34458500e-02,\n",
              "          -2.28339434e-02, -2.15404970e-03, -1.41593859e-01,\n",
              "          -2.98711862e-02, -1.56793162e-01, -1.08204246e-01,\n",
              "          -9.65253934e-02, -2.15735985e-03,  6.06912002e-02,\n",
              "          -2.64732055e-02, -2.39977930e-02, -7.75923356e-02,\n",
              "          -1.49209768e-01, -1.37293652e-01,  8.01044255e-02,\n",
              "           5.90639142e-03, -3.16578120e-01,  1.84321627e-01,\n",
              "           5.99850784e-04, -5.10051847e-02, -1.86617707e-03,\n",
              "          -3.81534062e-02,  1.73409339e-02]],\n",
              "\n",
              "        [[-1.27412543e-01,  2.10339539e-02, -3.48133333e-02,\n",
              "          -8.41742307e-02, -1.32778227e-01, -2.84600835e-02,\n",
              "           4.01365571e-02, -1.64031400e-03, -1.80135801e-01,\n",
              "          -1.72454417e-01, -4.79017338e-03, -1.29956186e-01,\n",
              "           2.02761851e-02, -7.92841017e-02,  4.60410863e-02,\n",
              "          -8.96536782e-02, -6.45759776e-02, -1.14941277e-01,\n",
              "          -5.66344112e-02, -3.73732895e-02, -6.68060547e-03,\n",
              "          -2.68832478e-03, -1.15808594e-04, -1.99323948e-02,\n",
              "          -1.03301741e-01, -8.21444467e-02, -1.18735433e-01,\n",
              "          -1.90379738e-03, -4.15255576e-02, -2.95057483e-02,\n",
              "          -9.18979719e-02, -1.20400108e-01]]]], dtype=float32)>"
            ]
          },
          "metadata": {},
          "execution_count": 19
        }
      ]
    },
    {
      "cell_type": "code",
      "source": [
        "model.layers[0].bias"
      ],
      "metadata": {
        "colab": {
          "base_uri": "https://localhost:8080/"
        },
        "id": "PHFqUJE7m3Cc",
        "outputId": "ee0474a5-c22e-4a6a-a48b-24c1b49c3bcc"
      },
      "execution_count": 20,
      "outputs": [
        {
          "output_type": "execute_result",
          "data": {
            "text/plain": [
              "<tf.Variable 'conv/bias:0' shape=(32,) dtype=float32, numpy=\n",
              "array([-0.41500384, -0.26077944, -0.3218062 , -0.13377567, -0.11497748,\n",
              "       -0.16219397, -0.04880478, -0.19364202,  0.00340584, -0.321797  ,\n",
              "       -0.38599372, -0.00469204, -0.00468628, -0.04974633, -0.00142128,\n",
              "       -0.07592194, -0.27866787, -0.06751982, -0.00732915, -0.51028526,\n",
              "       -0.06758638, -0.26339865, -0.28461024, -0.01331936, -0.01031275,\n",
              "       -0.35483098, -0.01304222, -0.16649932, -0.02255815, -0.35699826,\n",
              "       -0.03129569, -0.04802134], dtype=float32)>"
            ]
          },
          "metadata": {},
          "execution_count": 20
        }
      ]
    },
    {
      "cell_type": "code",
      "source": [
        "model.get_layer('conv')"
      ],
      "metadata": {
        "colab": {
          "base_uri": "https://localhost:8080/"
        },
        "id": "2oz4sreXm5Li",
        "outputId": "91681efa-4f44-45b3-cb68-5f392452fe79"
      },
      "execution_count": 21,
      "outputs": [
        {
          "output_type": "execute_result",
          "data": {
            "text/plain": [
              "<keras.layers.convolutional.conv2d.Conv2D at 0x7fae4e3923d0>"
            ]
          },
          "metadata": {},
          "execution_count": 21
        }
      ]
    },
    {
      "cell_type": "code",
      "source": [
        "activator=tf.keras.Model(inputs=model.input,\n",
        "                         outputs=[layer.output for layer in model.layers[:2]])\n",
        "activations=activator.predict(x_train_in[0][tf.newaxis, ...])\n",
        "\n",
        "len(activations)"
      ],
      "metadata": {
        "colab": {
          "base_uri": "https://localhost:8080/"
        },
        "id": "otwlPjhXpavT",
        "outputId": "f10eb733-2970-463d-918c-edb12df49edf"
      },
      "execution_count": 22,
      "outputs": [
        {
          "output_type": "stream",
          "name": "stdout",
          "text": [
            "1/1 [==============================] - 0s 74ms/step\n"
          ]
        },
        {
          "output_type": "execute_result",
          "data": {
            "text/plain": [
              "2"
            ]
          },
          "metadata": {},
          "execution_count": 22
        }
      ]
    },
    {
      "cell_type": "code",
      "source": [
        "conv_activation=activations[0]\n",
        "conv_activation.shape"
      ],
      "metadata": {
        "colab": {
          "base_uri": "https://localhost:8080/"
        },
        "id": "gfG4jAfqqCwE",
        "outputId": "802b3f18-b6f9-480e-be44-7f7cf03d885e"
      },
      "execution_count": 23,
      "outputs": [
        {
          "output_type": "execute_result",
          "data": {
            "text/plain": [
              "(1, 26, 26, 32)"
            ]
          },
          "metadata": {},
          "execution_count": 23
        }
      ]
    },
    {
      "cell_type": "code",
      "source": [
        "fig, axes= plt.subplots(4,8)\n",
        "fig.set_size_inches(10,5)\n",
        "\n",
        "for i in range(32):\n",
        "    axes[i//8,i%8].matshow(conv_activation[0,:,:,i], cmap='viridis')\n",
        "    axes[i//8, i%8].set_title('kernel %s'%str(i),fontsize=10)\n",
        "    plt.setp(axes[i//8, i%8].get_xticklabels(), visible=False)\n",
        "    plt.setp(axes[i//8, i%8].get_yticklabels(), visible=False)\n",
        "\n",
        "plt.tight_layout()\n",
        "plt.show()"
      ],
      "metadata": {
        "colab": {
          "base_uri": "https://localhost:8080/",
          "height": 369
        },
        "id": "E4Icsbu-qSwL",
        "outputId": "5a92581d-3f63-44bf-d457-985f72eef529"
      },
      "execution_count": 24,
      "outputs": [
        {
          "output_type": "display_data",
          "data": {
            "text/plain": [
              "<Figure size 720x360 with 32 Axes>"
            ],
            "image/png": "[encoded data removed]"
          },
          "metadata": {}
        }
      ]
    },
    {
      "cell_type": "code",
      "source": [
        "pooling_activation = activations[1]\n",
        "print(pooling_activation.shape)"
      ],
      "metadata": {
        "id": "5Xr6Nt6NtMbX",
        "colab": {
          "base_uri": "https://localhost:8080/"
        },
        "outputId": "febfd5e0-1283-4830-d1f1-b344eae36b7a"
      },
      "execution_count": 26,
      "outputs": [
        {
          "output_type": "stream",
          "name": "stdout",
          "text": [
            "(1, 13, 13, 32)\n"
          ]
        }
      ]
    },
    {
      "cell_type": "code",
      "source": [
        "fig, axes= plt.subplots(4,8)\n",
        "fig.set_size_inches(10,5)\n",
        "\n",
        "for i in range(32):\n",
        "    axes[i//8, i%8].matshow(pooling_activation[0, :, :, i], cmap='viridis')\n",
        "    axes[i//8, i%8].set_title('kernel %s'%str(i), fontsize=10)\n",
        "    plt.setp(axes[i//8, i%8].get_xticklabels(), visible=False)\n",
        "    plt.setp(axes[i//8, i%8].get_yticklabels(), visible=False)\n",
        "\n",
        "\n",
        "plt.tight_layout()\n",
        "plt.show()"
      ],
      "metadata": {
        "colab": {
          "base_uri": "https://localhost:8080/",
          "height": 369
        },
        "id": "aNRppigoryfz",
        "outputId": "227f5bf1-39ea-4bfe-f0fd-291887eb28be"
      },
      "execution_count": 30,
      "outputs": [
        {
          "output_type": "display_data",
          "data": {
            "text/plain": [
              "<Figure size 720x360 with 32 Axes>"
            ],
            "image/png": "[encoded data removed]"
          },
          "metadata": {}
        }
      ]
    },
    {
      "cell_type": "code",
      "source": [],
      "metadata": {
        "id": "wfT7lDOyr5D-"
      },
      "execution_count": null,
      "outputs": []
    }
  ]
}